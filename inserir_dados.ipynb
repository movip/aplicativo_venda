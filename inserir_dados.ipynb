{
 "cells": [
  {
   "cell_type": "code",
   "execution_count": 2,
   "metadata": {},
   "outputs": [],
   "source": [
    "import psycopg2\n",
    "from psycopg2 import sql\n",
    "import random\n",
    "from datetime import datetime, timedelta\n",
    "from faker import Faker"
   ]
  },
  {
   "cell_type": "code",
   "execution_count": 40,
   "metadata": {},
   "outputs": [],
   "source": [
    "# Configurações do banco de dados\n",
    "DB_HOST = \"localhost\"\n",
    "DB_NAME = \"venda\"\n",
    "DB_USER = \"admin\"\n",
    "DB_PASS = \"admin\"\n",
    "\n",
    "# Conectar ao banco de dados\n",
    "conn = psycopg2.connect(\n",
    "    host=DB_HOST,\n",
    "    database=DB_NAME,\n",
    "    user=DB_USER,\n",
    "    password=DB_PASS\n",
    ")\n",
    "cursor = conn.cursor()\n",
    "\n",
    "# Biblioteca Faker para gerar dados aleatórios\n",
    "fake = Faker()"
   ]
  },
  {
   "cell_type": "code",
   "execution_count": 41,
   "metadata": {},
   "outputs": [],
   "source": [
    "# Função para gerar datas aleatórias entre 2023 e 2024\n",
    "def generate_random_date(start_year=2024, end_year=2024):\n",
    "    start_date = datetime(start_year, 1, 1)\n",
    "    end_date = datetime(end_year, 12, 31)\n",
    "    delta = end_date - start_date\n",
    "    random_days = random.randint(0, delta.days)\n",
    "    return start_date + timedelta(days=random_days)"
   ]
  },
  {
   "cell_type": "code",
   "execution_count": 42,
   "metadata": {},
   "outputs": [],
   "source": [
    "produtos_valores = {\n",
    "    \"Camisa\": 150,\n",
    "    \"Calça\": 200,\n",
    "    \"Meia\": 50,\n",
    "    \"Cueca\": 70,\n",
    "    \"Bone\": 175\n",
    "}"
   ]
  },
  {
   "cell_type": "code",
   "execution_count": 43,
   "metadata": {},
   "outputs": [],
   "source": [
    "# Função para popular o banco de dados\n",
    "def populate_database(num_records):\n",
    "    for _ in range(num_records):\n",
    "        nome = fake.name()\n",
    "        email = random.choice([\"matheus@gmail.com\", \"daniel@gmail.com\", \"pedro@gmail.com\", \"kamila@gmail.com\", \"jessica@gmail.com\"])\n",
    "        genero = random.choice([\"Masculino\", \"Feminino\"])\n",
    "        data = generate_random_date()\n",
    "        quantidade = random.randint(1, 20)\n",
    "        produto = random.choice(list(produtos_valores.keys()))\n",
    "\n",
    "        # Definir o valor baseado no produto e na quantidade\n",
    "        valor = produtos_valores[produto] * quantidade\n",
    "\n",
    "        insert_query = sql.SQL(\n",
    "            \"INSERT INTO venda (nome, email, genero, data, valor, quantidade, produto) VALUES (%s, %s, %s, %s, %s, %s, %s)\"\n",
    "        )\n",
    "        cursor.execute(insert_query, (\n",
    "            nome, email, genero, data, valor, quantidade, produto\n",
    "        ))\n",
    "\n",
    "    # Commit para salvar as mudanças no banco\n",
    "    conn.commit()"
   ]
  },
  {
   "cell_type": "code",
   "execution_count": 44,
   "metadata": {},
   "outputs": [
    {
     "name": "stdout",
     "output_type": "stream",
     "text": [
      "Dados inseridos com sucesso!\n"
     ]
    }
   ],
   "source": [
    "# Inserir 100 registros\n",
    "populate_database(10000)\n",
    "\n",
    "# Fechar a conexão\n",
    "cursor.close()\n",
    "conn.close()\n",
    "\n",
    "print(\"Dados inseridos com sucesso!\")"
   ]
  }
 ],
 "metadata": {
  "kernelspec": {
   "display_name": ".venv",
   "language": "python",
   "name": "python3"
  },
  "language_info": {
   "codemirror_mode": {
    "name": "ipython",
    "version": 3
   },
   "file_extension": ".py",
   "mimetype": "text/x-python",
   "name": "python",
   "nbconvert_exporter": "python",
   "pygments_lexer": "ipython3",
   "version": "3.8.10"
  }
 },
 "nbformat": 4,
 "nbformat_minor": 2
}
